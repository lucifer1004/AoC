{
 "cells": [
  {
   "cell_type": "code",
   "execution_count": 1,
   "metadata": {},
   "outputs": [],
   "source": [
    "import sys\n",
    "\n",
    "sys.path.append('../utils')"
   ]
  },
  {
   "cell_type": "code",
   "execution_count": 2,
   "metadata": {},
   "outputs": [],
   "source": [
    "import numpy as np\n",
    "\n",
    "from aoc import * # get_input, d4, d8, d4n\n",
    "from atcoder.math import * # crt, pow_mod, inv_mod, floor_sum\n",
    "from atcoder.convolution import * # convolution\n",
    "from atcoder.string import * # suffix_array, lcp_array, z_algorithm\n",
    "from collections import *\n",
    "from sortedcontainers import *\n",
    "from heapq import *"
   ]
  },
  {
   "cell_type": "code",
   "execution_count": 3,
   "metadata": {},
   "outputs": [],
   "source": [
    "YEAR = 2021\n",
    "DAY = 16"
   ]
  },
  {
   "cell_type": "code",
   "execution_count": 4,
   "metadata": {},
   "outputs": [],
   "source": [
    "sample = '''D2FE28'''"
   ]
  },
  {
   "cell_type": "code",
   "execution_count": 5,
   "metadata": {
    "scrolled": true
   },
   "outputs": [],
   "source": [
    "inp = get_input(YEAR, DAY)"
   ]
  },
  {
   "cell_type": "code",
   "execution_count": 6,
   "metadata": {},
   "outputs": [],
   "source": [
    "def do_transform(inp):\n",
    "    return list(filter(lambda x: len(x) > 0, inp.split('\\n')))"
   ]
  },
  {
   "cell_type": "code",
   "execution_count": 7,
   "metadata": {},
   "outputs": [],
   "source": [
    "sample = do_transform(sample)\n",
    "inp = do_transform(inp)"
   ]
  },
  {
   "cell_type": "code",
   "execution_count": 8,
   "metadata": {},
   "outputs": [],
   "source": [
    "def parse(code):\n",
    "    n = len(code)\n",
    "    version = int(code[:3], base = 2)\n",
    "    itype = int(code[3:6], base = 2)\n",
    "    if itype == 4:\n",
    "        parts = []\n",
    "        ptr = 6\n",
    "        while code[ptr] == '1':\n",
    "            parts.append(code[ptr+1:ptr+5])\n",
    "            ptr += 5\n",
    "        parts.append(code[ptr+1:ptr+5])\n",
    "        ptr += 5\n",
    "        value = int(''.join(parts), base=2)\n",
    "        return version, itype, ptr, value\n",
    "    else:\n",
    "        values = []\n",
    "        length_type = int(code[6])\n",
    "        if length_type == 0:\n",
    "            total_length = int(code[7:22], base=2)\n",
    "            ptr = 22\n",
    "            while ptr < 22 + total_length:\n",
    "                vi, ti, ei, vali = parse(code[ptr:])\n",
    "                ptr += ei\n",
    "                version += vi\n",
    "                values.append(vali)\n",
    "        else:\n",
    "            total_num = int(code[7:18], base=2)\n",
    "            ptr = 18\n",
    "            for _ in range(total_num):\n",
    "                vi, ti, ei, vali = parse(code[ptr:])\n",
    "                ptr += ei\n",
    "                version += vi\n",
    "                values.append(vali)\n",
    "        \n",
    "        if itype == 0:\n",
    "            value = sum(values)\n",
    "        elif itype == 1:\n",
    "            value = 1\n",
    "            for vi in values:\n",
    "                value *= vi\n",
    "        elif itype == 2:\n",
    "            value = min(values)\n",
    "        elif itype == 3:\n",
    "            value = max(values)\n",
    "        elif itype == 5:\n",
    "            value = 1 if values[0] > values[1] else 0\n",
    "        elif itype == 6:\n",
    "            value = 1 if values[0] < values[1] else 0\n",
    "        else:\n",
    "            assert(itype == 7)\n",
    "            value = 1 if values[0] == values[1] else 0\n",
    "\n",
    "        return version, itype, ptr, value"
   ]
  },
  {
   "cell_type": "code",
   "execution_count": 9,
   "metadata": {},
   "outputs": [],
   "source": [
    "def part1(inp):   \n",
    "    code = ''.join(map(lambda x: bin(int(x, base=16))[2:].zfill(4), inp[0]))\n",
    "    return parse(code)[0]"
   ]
  },
  {
   "cell_type": "code",
   "execution_count": 10,
   "metadata": {},
   "outputs": [
    {
     "data": {
      "text/plain": [
       "6"
      ]
     },
     "execution_count": 10,
     "metadata": {},
     "output_type": "execute_result"
    }
   ],
   "source": [
    "part1(sample)"
   ]
  },
  {
   "cell_type": "code",
   "execution_count": 11,
   "metadata": {},
   "outputs": [
    {
     "data": {
      "text/plain": [
       "871"
      ]
     },
     "execution_count": 11,
     "metadata": {},
     "output_type": "execute_result"
    }
   ],
   "source": [
    "part1_ans = part1(inp)\n",
    "part1_ans"
   ]
  },
  {
   "cell_type": "code",
   "execution_count": null,
   "metadata": {},
   "outputs": [],
   "source": [
    "submit_answer(part1_ans, YEAR, DAY)"
   ]
  },
  {
   "cell_type": "code",
   "execution_count": 12,
   "metadata": {},
   "outputs": [],
   "source": [
    "def part2(inp):\n",
    "    code = ''.join(map(lambda x: bin(int(x, base=16))[2:].zfill(4), inp[0]))\n",
    "    return parse(code)[3]"
   ]
  },
  {
   "cell_type": "code",
   "execution_count": 13,
   "metadata": {},
   "outputs": [
    {
     "data": {
      "text/plain": [
       "2021"
      ]
     },
     "execution_count": 13,
     "metadata": {},
     "output_type": "execute_result"
    }
   ],
   "source": [
    "part2(sample)"
   ]
  },
  {
   "cell_type": "code",
   "execution_count": 14,
   "metadata": {},
   "outputs": [
    {
     "data": {
      "text/plain": [
       "68703010504"
      ]
     },
     "execution_count": 14,
     "metadata": {},
     "output_type": "execute_result"
    }
   ],
   "source": [
    "part2_ans = part2(inp)\n",
    "part2_ans"
   ]
  },
  {
   "cell_type": "code",
   "execution_count": null,
   "metadata": {},
   "outputs": [],
   "source": [
    "submit_answer(part2_ans, YEAR, DAY, level=2)"
   ]
  }
 ],
 "metadata": {
  "@webio": {
   "lastCommId": null,
   "lastKernelId": null
  },
  "kernelspec": {
   "display_name": "Python 3 (ipykernel)",
   "language": "python",
   "name": "python3"
  },
  "language_info": {
   "codemirror_mode": {
    "name": "ipython",
    "version": 3
   },
   "file_extension": ".py",
   "mimetype": "text/x-python",
   "name": "python",
   "nbconvert_exporter": "python",
   "pygments_lexer": "ipython3",
   "version": "3.7.12"
  },
  "latex_envs": {
   "LaTeX_envs_menu_present": true,
   "autoclose": false,
   "autocomplete": true,
   "bibliofile": "biblio.bib",
   "cite_by": "apalike",
   "current_citInitial": 1,
   "eqLabelWithNumbers": true,
   "eqNumInitial": 1,
   "hotkeys": {
    "equation": "Ctrl-E",
    "itemize": "Ctrl-I"
   },
   "labels_anchors": false,
   "latex_user_defs": false,
   "report_style_numbering": false,
   "user_envs_cfg": false
  },
  "toc": {
   "base_numbering": 1,
   "nav_menu": {},
   "number_sections": true,
   "sideBar": true,
   "skip_h1_title": false,
   "title_cell": "Table of Contents",
   "title_sidebar": "Contents",
   "toc_cell": false,
   "toc_position": {},
   "toc_section_display": true,
   "toc_window_display": false
  }
 },
 "nbformat": 4,
 "nbformat_minor": 4
}
