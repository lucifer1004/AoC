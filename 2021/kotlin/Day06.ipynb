{
 "cells": [
  {
   "cell_type": "code",
   "execution_count": 1,
   "id": "6b3a6ae7-59e0-4498-814e-a93e1d634cdd",
   "metadata": {},
   "outputs": [],
   "source": [
    "%use fuel(2.3.1)"
   ]
  },
  {
   "cell_type": "code",
   "execution_count": 2,
   "id": "75d3abee-04d6-4fd0-a18f-38063fb0afa2",
   "metadata": {},
   "outputs": [],
   "source": [
    "import java.math.BigInteger"
   ]
  },
  {
   "cell_type": "code",
   "execution_count": 3,
   "id": "ab39a624-cec1-4102-b23d-640c312b72dc",
   "metadata": {},
   "outputs": [],
   "source": [
    "val envs = java.io.File(\"../../.env\")\n",
    "    .readLines()\n",
    "    .map {\n",
    "        it.split(\"=\")[0] to it.split(\"=\")[1].trim('\"')\n",
    "    }.toMap()"
   ]
  },
  {
   "cell_type": "code",
   "execution_count": 4,
   "id": "575b8a31-6e1c-4edc-98f8-72c52992797b",
   "metadata": {},
   "outputs": [],
   "source": [
    "val session = envs.get(\"AOC_SESSION\")\n",
    "val year = 2021\n",
    "val day = 6"
   ]
  },
  {
   "cell_type": "code",
   "execution_count": 5,
   "id": "dd799fac-9c82-4c5a-b308-60691a01a866",
   "metadata": {},
   "outputs": [],
   "source": [
    "fun getInput(year: Int, day: Int, session: String): String {\n",
    "    val (_, _, result) = \"https://adventofcode.com/$year/day/$day/input\"\n",
    "    .httpGet()\n",
    "    .header(\"cookie\" to \"session=$session\")\n",
    "    .responseString()\n",
    "        \n",
    "    return result.get()\n",
    "}"
   ]
  },
  {
   "cell_type": "code",
   "execution_count": 6,
   "id": "cac8a111-9146-49ea-8989-c6392869eaaa",
   "metadata": {},
   "outputs": [],
   "source": [
    "fun submitAnswer(year: Int, day: Int, session: String, level: Int, answer: String): String {\n",
    "    val (_, _, result) = Fuel\n",
    "    .post(\n",
    "        \"https://adventofcode.com/$year/day/$day/answer\", \n",
    "        parameters = listOf(\"level\" to level, \"answer\" to answer))\n",
    "    .header(\"cookie\" to \"session=$session\")\n",
    "    .responseString()\n",
    "        \n",
    "    return result.get()\n",
    "}"
   ]
  },
  {
   "cell_type": "code",
   "execution_count": 7,
   "id": "a064468c-9c51-4307-ba19-e3ff83c6c4ac",
   "metadata": {},
   "outputs": [],
   "source": [
    "val sample = \"\"\"3,4,3,1,2\"\"\""
   ]
  },
  {
   "cell_type": "code",
   "execution_count": 8,
   "id": "878489a4-5e1e-4c04-a209-650185a8de67",
   "metadata": {},
   "outputs": [],
   "source": [
    "val input = getInput(year, day, session)"
   ]
  },
  {
   "cell_type": "code",
   "execution_count": 9,
   "id": "d3434241-0723-4f96-a824-334fbd13b30b",
   "metadata": {},
   "outputs": [],
   "source": [
    "class Submarine(private val cycle: Int, private val extra: Int, private val initial: List<Int>) {\n",
    "    private val n = cycle + extra\n",
    "    private val state: Array<BigInteger> = Array<BigInteger>(n) {BigInteger.valueOf(0)}\n",
    "    private var day = 0\n",
    "    \n",
    "    init {\n",
    "        for (num in initial) {\n",
    "            this.state[num]++\n",
    "        }\n",
    "    }\n",
    "    \n",
    "    private fun go() {\n",
    "        this.day++\n",
    "        \n",
    "        val newState = Array<BigInteger>(n) {BigInteger.valueOf(0)}\n",
    "        for (i in 0 until n - 1) {\n",
    "            newState[i] += this.state[i + 1]\n",
    "        }\n",
    "        newState[cycle - 1] += this.state[0]\n",
    "        newState[n - 1] += this.state[0]\n",
    "        for (i in 0 until n) {\n",
    "            this.state[i] = newState[i]\n",
    "        }\n",
    "    }\n",
    "    \n",
    "    fun go(days: Int) {\n",
    "        for (i in 0 until days) {\n",
    "            this.go()\n",
    "        }\n",
    "    }\n",
    "    \n",
    "    fun size(): BigInteger {\n",
    "        var sum = BigInteger.valueOf(0)\n",
    "        for (num in this.state) {\n",
    "            sum += num\n",
    "        }\n",
    "        return sum\n",
    "    }\n",
    "}"
   ]
  },
  {
   "cell_type": "code",
   "execution_count": 10,
   "id": "f80e521a-bf11-4b36-85af-14f9111d262e",
   "metadata": {},
   "outputs": [],
   "source": [
    "fun solve(input: String, cycle: Int, extra: Int, days: Int): String {\n",
    "    val lines = input.split('\\n').filter {it.length > 0}\n",
    "    val nums = lines[0].split(',').map(String::toInt)\n",
    "    val submarine = Submarine(cycle, extra, nums)\n",
    "    submarine.go(days)\n",
    "    return submarine.size().toString()\n",
    "}"
   ]
  },
  {
   "cell_type": "code",
   "execution_count": 11,
   "id": "07df67e5-7a24-42e8-a6c4-f555675939df",
   "metadata": {},
   "outputs": [],
   "source": [
    "fun partOne(input: String): String = solve(input, 7, 2, 80)"
   ]
  },
  {
   "cell_type": "code",
   "execution_count": 12,
   "id": "eaa273a8-a166-44e0-9023-2449fecbbb94",
   "metadata": {},
   "outputs": [
    {
     "data": {
      "text/plain": [
       "5934"
      ]
     },
     "execution_count": 12,
     "metadata": {},
     "output_type": "execute_result"
    }
   ],
   "source": [
    "partOne(sample)"
   ]
  },
  {
   "cell_type": "code",
   "execution_count": 13,
   "id": "2ad99e07-5a96-40c4-873c-e72dd7c5f499",
   "metadata": {},
   "outputs": [
    {
     "data": {
      "text/plain": [
       "350149"
      ]
     },
     "execution_count": 13,
     "metadata": {},
     "output_type": "execute_result"
    }
   ],
   "source": [
    "val partOneAns = partOne(input)\n",
    "partOneAns"
   ]
  },
  {
   "cell_type": "code",
   "execution_count": null,
   "id": "23679ce7-8258-41ae-9813-dff5745b482c",
   "metadata": {},
   "outputs": [],
   "source": [
    "submitAnswer(year, day, session, 1, partOneAns)"
   ]
  },
  {
   "cell_type": "code",
   "execution_count": 14,
   "id": "528387cf-abb5-4da2-9fd3-9bbf865444a9",
   "metadata": {},
   "outputs": [],
   "source": [
    "fun partTwo(input: String) = solve(input, 7, 2, 256)"
   ]
  },
  {
   "cell_type": "code",
   "execution_count": 15,
   "id": "b12a86b5-8d6f-4a6c-851a-af1d84ae168d",
   "metadata": {},
   "outputs": [
    {
     "data": {
      "text/plain": [
       "26984457539"
      ]
     },
     "execution_count": 15,
     "metadata": {},
     "output_type": "execute_result"
    }
   ],
   "source": [
    "partTwo(sample)"
   ]
  },
  {
   "cell_type": "code",
   "execution_count": 16,
   "id": "62a5e94e-550f-42fe-9597-32e6f87a5b1c",
   "metadata": {},
   "outputs": [
    {
     "data": {
      "text/plain": [
       "1590327954513"
      ]
     },
     "execution_count": 16,
     "metadata": {},
     "output_type": "execute_result"
    }
   ],
   "source": [
    "val partTwoAns = partTwo(input)\n",
    "partTwoAns"
   ]
  },
  {
   "cell_type": "code",
   "execution_count": null,
   "id": "12e74919-3d56-4d88-9c51-bcb437ad3cf6",
   "metadata": {},
   "outputs": [],
   "source": [
    "submitAnswer(year, day, session, 2, partTwoAns)"
   ]
  }
 ],
 "metadata": {
  "kernelspec": {
   "display_name": "Kotlin",
   "language": "kotlin",
   "name": "kotlin"
  },
  "language_info": {
   "codemirror_mode": "text/x-kotlin",
   "file_extension": ".kt",
   "mimetype": "text/x-kotlin",
   "name": "kotlin",
   "nbconvert_exporter": "",
   "pygments_lexer": "kotlin",
   "version": "1.6.20-dev-5432"
  }
 },
 "nbformat": 4,
 "nbformat_minor": 5
}
